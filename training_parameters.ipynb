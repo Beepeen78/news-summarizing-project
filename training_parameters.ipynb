{
  "nbformat": 4,
  "nbformat_minor": 0,
  "metadata": {
    "colab": {
      "provenance": []
    },
    "kernelspec": {
      "name": "python3",
      "display_name": "Python 3"
    },
    "language_info": {
      "name": "python"
    }
  },
  "cells": [
    {
      "cell_type": "markdown",
      "source": [],
      "metadata": {
        "id": "bvqw_ozN5ikg"
      }
    },
    {
      "cell_type": "code",
      "execution_count": null,
      "metadata": {
        "id": "5HMJj0CprME6"
      },
      "outputs": [],
      "source": [
        "from transformers import T5ForConditionalGeneration, Trainer, TrainingArguments\n",
        "\n",
        "# Load the model\n",
        "model = T5ForConditionalGeneration.from_pretrained('t5-small')\n",
        "\n",
        "# Adjust training parameters\n",
        "training_args = TrainingArguments(\n",
        "    output_dir='./results',\n",
        "    num_train_epochs=1,  # Reduce the number of epochs\n",
        "    per_device_train_batch_size=8,  # Increase the batch size if you have enough GPU memory\n",
        "    per_device_eval_batch_size=8,\n",
        "    warmup_steps=100,\n",
        "    weight_decay=0.01,\n",
        "    logging_dir='./logs',\n",
        "    logging_steps=10,\n",
        "    eval_strategy=\"epoch\",\n",
        "    fp16=True,  # Use mixed precision training if supported by your hardware\n",
        "    disable_tqdm=False,  # Ensure tqdm progress bar is enabled\n",
        "    report_to=\"none\"  # Ensure no integration with external logging services\n",
        ")"
      ]
    }
  ]
}
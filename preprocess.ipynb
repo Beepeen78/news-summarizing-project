{
  "nbformat": 4,
  "nbformat_minor": 0,
  "metadata": {
    "colab": {
      "provenance": []
    },
    "kernelspec": {
      "name": "python3",
      "display_name": "Python 3"
    },
    "language_info": {
      "name": "python"
    }
  },
  "cells": [
    {
      "cell_type": "code",
      "source": [
        "def preprocess(text):\n",
        "    text = text.lower()\n",
        "    text = re.sub(r'\\s+', ' ', text)\n",
        "    text = re.sub(r'[^a-zA-Z0-9\\s]', '', text)\n",
        "    return text\n",
        "\n",
        "train_data['article'] = train_data['article'].apply(preprocess)\n",
        "train_data['highlights'] = train_data['highlights'].apply(preprocess)\n",
        "\n",
        "val_data['article'] = val_data['article'].apply(preprocess)\n",
        "val_data['highlights'] = val_data['highlights'].apply(preprocess)\n",
        "\n",
        "test_data['article'] = test_data['article'].apply(preprocess)\n",
        "test_data['highlights'] = test_data['highlights'].apply(preprocess)"
      ],
      "metadata": {
        "id": "7VqlAFjEQ_Cp"
      },
      "execution_count": null,
      "outputs": []
    }
  ]
}
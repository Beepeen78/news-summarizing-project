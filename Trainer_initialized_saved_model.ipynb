{
  "nbformat": 4,
  "nbformat_minor": 0,
  "metadata": {
    "colab": {
      "provenance": []
    },
    "kernelspec": {
      "name": "python3",
      "display_name": "Python 3"
    },
    "language_info": {
      "name": "python"
    }
  },
  "cells": [
    {
      "cell_type": "code",
      "execution_count": null,
      "metadata": {
        "id": "QwSqdAtNEpxk"
      },
      "outputs": [],
      "source": [
        "# Initialize the Trainer\n",
        "trainer = Trainer(\n",
        "    model=model,\n",
        "    args=training_args,\n",
        "    train_dataset=small_train_dataset,\n",
        "    eval_dataset=small_val_dataset,\n",
        ")\n",
        "\n",
        "# Show progress with tqdm\n",
        "print(\"Starting training...\")\n",
        "trainer.train()\n",
        "print(\"Training completed.\")\n",
        "\n",
        "# Save the model and tokenizer\n",
        "model.save_pretrained('saved_model/t5-small')\n",
        "tokenizer.save_pretrained('saved_model/t5-small')"
      ]
    }
  ]
}
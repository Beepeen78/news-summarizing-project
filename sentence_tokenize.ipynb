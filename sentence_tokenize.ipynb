{
  "nbformat": 4,
  "nbformat_minor": 0,
  "metadata": {
    "colab": {
      "provenance": []
    },
    "kernelspec": {
      "name": "python3",
      "display_name": "Python 3"
    },
    "language_info": {
      "name": "python"
    }
  },
  "cells": [
    {
      "cell_type": "code",
      "execution_count": null,
      "metadata": {
        "id": "YCE-KSr8nwhT"
      },
      "outputs": [],
      "source": [
        "from nltk.tokenize import sent_tokenize\n",
        "\n",
        "train_data['sentences'] = train_data['article'].apply(sent_tokenize)\n",
        "val_data['sentences'] = val_data['article'].apply(sent_tokenize)\n",
        "test_data['sentences'] = test_data['article'].apply(sent_tokenize)\n",
        "\n",
        "# Save data after sentence tokenization\n",
        "train_data.to_csv('tokenized_train_data.csv', index=False)\n",
        "val_data.to_csv('tokenized_val_data.csv', index=False)\n",
        "test_data.to_csv('tokenized_test_data.csv', index=False)\n",
        "train_dataset = Dataset.from_pandas(train_data)\n",
        "val_dataset = Dataset.from_pandas(val_data)\n",
        "test_dataset = Dataset.from_pandas(test_data)"
      ]
    }
  ]
}